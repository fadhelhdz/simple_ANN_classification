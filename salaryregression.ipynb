{
 "cells": [
  {
   "cell_type": "code",
   "execution_count": 1,
   "metadata": {},
   "outputs": [],
   "source": [
    "import pandas as pd\n",
    "from sklearn.model_selection import train_test_split\n",
    "from sklearn.preprocessing import StandardScaler, LabelEncoder, OneHotEncoder\n",
    "import pickle"
   ]
  },
  {
   "cell_type": "code",
   "execution_count": 2,
   "metadata": {},
   "outputs": [
    {
     "data": {
      "text/html": [
       "<div>\n",
       "<style scoped>\n",
       "    .dataframe tbody tr th:only-of-type {\n",
       "        vertical-align: middle;\n",
       "    }\n",
       "\n",
       "    .dataframe tbody tr th {\n",
       "        vertical-align: top;\n",
       "    }\n",
       "\n",
       "    .dataframe thead th {\n",
       "        text-align: right;\n",
       "    }\n",
       "</style>\n",
       "<table border=\"1\" class=\"dataframe\">\n",
       "  <thead>\n",
       "    <tr style=\"text-align: right;\">\n",
       "      <th></th>\n",
       "      <th>RowNumber</th>\n",
       "      <th>CustomerId</th>\n",
       "      <th>Surname</th>\n",
       "      <th>CreditScore</th>\n",
       "      <th>Geography</th>\n",
       "      <th>Gender</th>\n",
       "      <th>Age</th>\n",
       "      <th>Tenure</th>\n",
       "      <th>Balance</th>\n",
       "      <th>NumOfProducts</th>\n",
       "      <th>HasCrCard</th>\n",
       "      <th>IsActiveMember</th>\n",
       "      <th>EstimatedSalary</th>\n",
       "      <th>Exited</th>\n",
       "    </tr>\n",
       "  </thead>\n",
       "  <tbody>\n",
       "    <tr>\n",
       "      <th>0</th>\n",
       "      <td>1</td>\n",
       "      <td>15634602</td>\n",
       "      <td>Hargrave</td>\n",
       "      <td>619</td>\n",
       "      <td>France</td>\n",
       "      <td>Female</td>\n",
       "      <td>42</td>\n",
       "      <td>2</td>\n",
       "      <td>0.00</td>\n",
       "      <td>1</td>\n",
       "      <td>1</td>\n",
       "      <td>1</td>\n",
       "      <td>101348.88</td>\n",
       "      <td>1</td>\n",
       "    </tr>\n",
       "    <tr>\n",
       "      <th>1</th>\n",
       "      <td>2</td>\n",
       "      <td>15647311</td>\n",
       "      <td>Hill</td>\n",
       "      <td>608</td>\n",
       "      <td>Spain</td>\n",
       "      <td>Female</td>\n",
       "      <td>41</td>\n",
       "      <td>1</td>\n",
       "      <td>83807.86</td>\n",
       "      <td>1</td>\n",
       "      <td>0</td>\n",
       "      <td>1</td>\n",
       "      <td>112542.58</td>\n",
       "      <td>0</td>\n",
       "    </tr>\n",
       "    <tr>\n",
       "      <th>2</th>\n",
       "      <td>3</td>\n",
       "      <td>15619304</td>\n",
       "      <td>Onio</td>\n",
       "      <td>502</td>\n",
       "      <td>France</td>\n",
       "      <td>Female</td>\n",
       "      <td>42</td>\n",
       "      <td>8</td>\n",
       "      <td>159660.80</td>\n",
       "      <td>3</td>\n",
       "      <td>1</td>\n",
       "      <td>0</td>\n",
       "      <td>113931.57</td>\n",
       "      <td>1</td>\n",
       "    </tr>\n",
       "    <tr>\n",
       "      <th>3</th>\n",
       "      <td>4</td>\n",
       "      <td>15701354</td>\n",
       "      <td>Boni</td>\n",
       "      <td>699</td>\n",
       "      <td>France</td>\n",
       "      <td>Female</td>\n",
       "      <td>39</td>\n",
       "      <td>1</td>\n",
       "      <td>0.00</td>\n",
       "      <td>2</td>\n",
       "      <td>0</td>\n",
       "      <td>0</td>\n",
       "      <td>93826.63</td>\n",
       "      <td>0</td>\n",
       "    </tr>\n",
       "    <tr>\n",
       "      <th>4</th>\n",
       "      <td>5</td>\n",
       "      <td>15737888</td>\n",
       "      <td>Mitchell</td>\n",
       "      <td>850</td>\n",
       "      <td>Spain</td>\n",
       "      <td>Female</td>\n",
       "      <td>43</td>\n",
       "      <td>2</td>\n",
       "      <td>125510.82</td>\n",
       "      <td>1</td>\n",
       "      <td>1</td>\n",
       "      <td>1</td>\n",
       "      <td>79084.10</td>\n",
       "      <td>0</td>\n",
       "    </tr>\n",
       "  </tbody>\n",
       "</table>\n",
       "</div>"
      ],
      "text/plain": [
       "   RowNumber  CustomerId   Surname  CreditScore Geography  Gender  Age  \\\n",
       "0          1    15634602  Hargrave          619    France  Female   42   \n",
       "1          2    15647311      Hill          608     Spain  Female   41   \n",
       "2          3    15619304      Onio          502    France  Female   42   \n",
       "3          4    15701354      Boni          699    France  Female   39   \n",
       "4          5    15737888  Mitchell          850     Spain  Female   43   \n",
       "\n",
       "   Tenure    Balance  NumOfProducts  HasCrCard  IsActiveMember  \\\n",
       "0       2       0.00              1          1               1   \n",
       "1       1   83807.86              1          0               1   \n",
       "2       8  159660.80              3          1               0   \n",
       "3       1       0.00              2          0               0   \n",
       "4       2  125510.82              1          1               1   \n",
       "\n",
       "   EstimatedSalary  Exited  \n",
       "0        101348.88       1  \n",
       "1        112542.58       0  \n",
       "2        113931.57       1  \n",
       "3         93826.63       0  \n",
       "4         79084.10       0  "
      ]
     },
     "execution_count": 2,
     "metadata": {},
     "output_type": "execute_result"
    }
   ],
   "source": [
    "data = pd.read_csv('Churn_Modelling.csv')\n",
    "data.head()"
   ]
  },
  {
   "cell_type": "code",
   "execution_count": 3,
   "metadata": {},
   "outputs": [],
   "source": [
    "# Preprocess the data\n",
    "data = data.drop(['RowNumber', 'CustomerId', 'Surname'], axis=1)"
   ]
  },
  {
   "cell_type": "code",
   "execution_count": 4,
   "metadata": {},
   "outputs": [],
   "source": [
    "# Label Encode categorical variables\n",
    "label_encoder_gender = LabelEncoder()\n",
    "data['Gender'] = label_encoder_gender.fit_transform(data['Gender'])\n"
   ]
  },
  {
   "cell_type": "code",
   "execution_count": 5,
   "metadata": {},
   "outputs": [
    {
     "data": {
      "text/html": [
       "<div>\n",
       "<style scoped>\n",
       "    .dataframe tbody tr th:only-of-type {\n",
       "        vertical-align: middle;\n",
       "    }\n",
       "\n",
       "    .dataframe tbody tr th {\n",
       "        vertical-align: top;\n",
       "    }\n",
       "\n",
       "    .dataframe thead th {\n",
       "        text-align: right;\n",
       "    }\n",
       "</style>\n",
       "<table border=\"1\" class=\"dataframe\">\n",
       "  <thead>\n",
       "    <tr style=\"text-align: right;\">\n",
       "      <th></th>\n",
       "      <th>Geography_France</th>\n",
       "      <th>Geography_Germany</th>\n",
       "      <th>Geography_Spain</th>\n",
       "    </tr>\n",
       "  </thead>\n",
       "  <tbody>\n",
       "    <tr>\n",
       "      <th>0</th>\n",
       "      <td>1.0</td>\n",
       "      <td>0.0</td>\n",
       "      <td>0.0</td>\n",
       "    </tr>\n",
       "    <tr>\n",
       "      <th>1</th>\n",
       "      <td>0.0</td>\n",
       "      <td>0.0</td>\n",
       "      <td>1.0</td>\n",
       "    </tr>\n",
       "    <tr>\n",
       "      <th>2</th>\n",
       "      <td>1.0</td>\n",
       "      <td>0.0</td>\n",
       "      <td>0.0</td>\n",
       "    </tr>\n",
       "    <tr>\n",
       "      <th>3</th>\n",
       "      <td>1.0</td>\n",
       "      <td>0.0</td>\n",
       "      <td>0.0</td>\n",
       "    </tr>\n",
       "    <tr>\n",
       "      <th>4</th>\n",
       "      <td>0.0</td>\n",
       "      <td>0.0</td>\n",
       "      <td>1.0</td>\n",
       "    </tr>\n",
       "  </tbody>\n",
       "</table>\n",
       "</div>"
      ],
      "text/plain": [
       "   Geography_France  Geography_Germany  Geography_Spain\n",
       "0               1.0                0.0              0.0\n",
       "1               0.0                0.0              1.0\n",
       "2               1.0                0.0              0.0\n",
       "3               1.0                0.0              0.0\n",
       "4               0.0                0.0              1.0"
      ]
     },
     "execution_count": 5,
     "metadata": {},
     "output_type": "execute_result"
    }
   ],
   "source": [
    "# One hot encode 'Geography'\n",
    "onehot_encoder_geo = OneHotEncoder(handle_unknown='ignore')\n",
    "geo_encoded = onehot_encoder_geo.fit_transform(data[['Geography']]).toarray()\n",
    "geo_encoded_df = pd.DataFrame(geo_encoded, columns=onehot_encoder_geo.get_feature_names_out(['Geography']))\n",
    "geo_encoded_df.head()"
   ]
  },
  {
   "cell_type": "code",
   "execution_count": 6,
   "metadata": {},
   "outputs": [
    {
     "data": {
      "text/html": [
       "<div>\n",
       "<style scoped>\n",
       "    .dataframe tbody tr th:only-of-type {\n",
       "        vertical-align: middle;\n",
       "    }\n",
       "\n",
       "    .dataframe tbody tr th {\n",
       "        vertical-align: top;\n",
       "    }\n",
       "\n",
       "    .dataframe thead th {\n",
       "        text-align: right;\n",
       "    }\n",
       "</style>\n",
       "<table border=\"1\" class=\"dataframe\">\n",
       "  <thead>\n",
       "    <tr style=\"text-align: right;\">\n",
       "      <th></th>\n",
       "      <th>CreditScore</th>\n",
       "      <th>Gender</th>\n",
       "      <th>Age</th>\n",
       "      <th>Tenure</th>\n",
       "      <th>Balance</th>\n",
       "      <th>NumOfProducts</th>\n",
       "      <th>HasCrCard</th>\n",
       "      <th>IsActiveMember</th>\n",
       "      <th>EstimatedSalary</th>\n",
       "      <th>Exited</th>\n",
       "      <th>Geography_France</th>\n",
       "      <th>Geography_Germany</th>\n",
       "      <th>Geography_Spain</th>\n",
       "    </tr>\n",
       "  </thead>\n",
       "  <tbody>\n",
       "    <tr>\n",
       "      <th>0</th>\n",
       "      <td>619</td>\n",
       "      <td>0</td>\n",
       "      <td>42</td>\n",
       "      <td>2</td>\n",
       "      <td>0.00</td>\n",
       "      <td>1</td>\n",
       "      <td>1</td>\n",
       "      <td>1</td>\n",
       "      <td>101348.88</td>\n",
       "      <td>1</td>\n",
       "      <td>1.0</td>\n",
       "      <td>0.0</td>\n",
       "      <td>0.0</td>\n",
       "    </tr>\n",
       "    <tr>\n",
       "      <th>1</th>\n",
       "      <td>608</td>\n",
       "      <td>0</td>\n",
       "      <td>41</td>\n",
       "      <td>1</td>\n",
       "      <td>83807.86</td>\n",
       "      <td>1</td>\n",
       "      <td>0</td>\n",
       "      <td>1</td>\n",
       "      <td>112542.58</td>\n",
       "      <td>0</td>\n",
       "      <td>0.0</td>\n",
       "      <td>0.0</td>\n",
       "      <td>1.0</td>\n",
       "    </tr>\n",
       "    <tr>\n",
       "      <th>2</th>\n",
       "      <td>502</td>\n",
       "      <td>0</td>\n",
       "      <td>42</td>\n",
       "      <td>8</td>\n",
       "      <td>159660.80</td>\n",
       "      <td>3</td>\n",
       "      <td>1</td>\n",
       "      <td>0</td>\n",
       "      <td>113931.57</td>\n",
       "      <td>1</td>\n",
       "      <td>1.0</td>\n",
       "      <td>0.0</td>\n",
       "      <td>0.0</td>\n",
       "    </tr>\n",
       "    <tr>\n",
       "      <th>3</th>\n",
       "      <td>699</td>\n",
       "      <td>0</td>\n",
       "      <td>39</td>\n",
       "      <td>1</td>\n",
       "      <td>0.00</td>\n",
       "      <td>2</td>\n",
       "      <td>0</td>\n",
       "      <td>0</td>\n",
       "      <td>93826.63</td>\n",
       "      <td>0</td>\n",
       "      <td>1.0</td>\n",
       "      <td>0.0</td>\n",
       "      <td>0.0</td>\n",
       "    </tr>\n",
       "    <tr>\n",
       "      <th>4</th>\n",
       "      <td>850</td>\n",
       "      <td>0</td>\n",
       "      <td>43</td>\n",
       "      <td>2</td>\n",
       "      <td>125510.82</td>\n",
       "      <td>1</td>\n",
       "      <td>1</td>\n",
       "      <td>1</td>\n",
       "      <td>79084.10</td>\n",
       "      <td>0</td>\n",
       "      <td>0.0</td>\n",
       "      <td>0.0</td>\n",
       "      <td>1.0</td>\n",
       "    </tr>\n",
       "  </tbody>\n",
       "</table>\n",
       "</div>"
      ],
      "text/plain": [
       "   CreditScore  Gender  Age  Tenure    Balance  NumOfProducts  HasCrCard  \\\n",
       "0          619       0   42       2       0.00              1          1   \n",
       "1          608       0   41       1   83807.86              1          0   \n",
       "2          502       0   42       8  159660.80              3          1   \n",
       "3          699       0   39       1       0.00              2          0   \n",
       "4          850       0   43       2  125510.82              1          1   \n",
       "\n",
       "   IsActiveMember  EstimatedSalary  Exited  Geography_France  \\\n",
       "0               1        101348.88       1               1.0   \n",
       "1               1        112542.58       0               0.0   \n",
       "2               0        113931.57       1               1.0   \n",
       "3               0         93826.63       0               1.0   \n",
       "4               1         79084.10       0               0.0   \n",
       "\n",
       "   Geography_Germany  Geography_Spain  \n",
       "0                0.0              0.0  \n",
       "1                0.0              1.0  \n",
       "2                0.0              0.0  \n",
       "3                0.0              0.0  \n",
       "4                0.0              1.0  "
      ]
     },
     "execution_count": 6,
     "metadata": {},
     "output_type": "execute_result"
    }
   ],
   "source": [
    "# Combine one-hot encoded columns with original data\n",
    "data = pd.concat([data.drop('Geography', axis=1), geo_encoded_df], axis=1)\n",
    "data.head()"
   ]
  },
  {
   "cell_type": "code",
   "execution_count": 7,
   "metadata": {},
   "outputs": [],
   "source": [
    "# Split the data into features and target\n",
    "X = data.drop('EstimatedSalary', axis=1)\n",
    "y = data['EstimatedSalary']"
   ]
  },
  {
   "cell_type": "code",
   "execution_count": 8,
   "metadata": {},
   "outputs": [],
   "source": [
    "# Split the data in training and testing sets\n",
    "X_train, X_test, y_train, y_test = train_test_split(X, y, test_size=0.2, random_state=42)"
   ]
  },
  {
   "cell_type": "code",
   "execution_count": 9,
   "metadata": {},
   "outputs": [],
   "source": [
    "# Scale the features\n",
    "scaler = StandardScaler()\n",
    "X_train = scaler.fit_transform(X_train)\n",
    "X_test = scaler.fit_transform(X_test)"
   ]
  },
  {
   "cell_type": "code",
   "execution_count": 10,
   "metadata": {},
   "outputs": [],
   "source": [
    "# Save the encoders and scalers\n",
    "with open('label_encoder_gender.pkl', 'wb') as file:\n",
    "    pickle.dump(label_encoder_gender, file)\n",
    "\n",
    "with open('onehot_encoder_geo.pkl', 'wb') as file:\n",
    "    pickle.dump(onehot_encoder_geo, file)\n",
    "\n",
    "with open('scaler_regression.pkl', 'wb') as file:\n",
    "    pickle.dump(scaler, file)"
   ]
  },
  {
   "cell_type": "markdown",
   "metadata": {},
   "source": [
    "## ANN Regression Problem Statement"
   ]
  },
  {
   "cell_type": "code",
   "execution_count": 11,
   "metadata": {},
   "outputs": [
    {
     "name": "stdout",
     "output_type": "stream",
     "text": [
      "WARNING:tensorflow:From c:\\Users\\hariz\\projects\\simple_ANN_classification\\venv\\Lib\\site-packages\\keras\\src\\losses.py:2976: The name tf.losses.sparse_softmax_cross_entropy is deprecated. Please use tf.compat.v1.losses.sparse_softmax_cross_entropy instead.\n",
      "\n"
     ]
    }
   ],
   "source": [
    "import tensorflow as tf\n",
    "from tensorflow.keras.models import Sequential\n",
    "from tensorflow.keras.layers import Dense"
   ]
  },
  {
   "cell_type": "code",
   "execution_count": 12,
   "metadata": {},
   "outputs": [
    {
     "name": "stdout",
     "output_type": "stream",
     "text": [
      "WARNING:tensorflow:From c:\\Users\\hariz\\projects\\simple_ANN_classification\\venv\\Lib\\site-packages\\keras\\src\\backend.py:873: The name tf.get_default_graph is deprecated. Please use tf.compat.v1.get_default_graph instead.\n",
      "\n",
      "WARNING:tensorflow:From c:\\Users\\hariz\\projects\\simple_ANN_classification\\venv\\Lib\\site-packages\\keras\\src\\optimizers\\__init__.py:309: The name tf.train.Optimizer is deprecated. Please use tf.compat.v1.train.Optimizer instead.\n",
      "\n",
      "Model: \"sequential\"\n",
      "_________________________________________________________________\n",
      " Layer (type)                Output Shape              Param #   \n",
      "=================================================================\n",
      " dense (Dense)               (None, 64)                832       \n",
      "                                                                 \n",
      " dense_1 (Dense)             (None, 32)                2080      \n",
      "                                                                 \n",
      " dense_2 (Dense)             (None, 1)                 33        \n",
      "                                                                 \n",
      "=================================================================\n",
      "Total params: 2945 (11.50 KB)\n",
      "Trainable params: 2945 (11.50 KB)\n",
      "Non-trainable params: 0 (0.00 Byte)\n",
      "_________________________________________________________________\n"
     ]
    }
   ],
   "source": [
    "# Build the model\n",
    "model = Sequential([\n",
    "    Dense(64, activation='relu', input_shape=(X_train.shape[1],)),\n",
    "    Dense(32, activation='relu'),\n",
    "    Dense(1) # Output layer for regression\n",
    "])\n",
    "\n",
    "# Compile the model\n",
    "model.compile(optimizer='adam', loss='mean_absolute_error', metrics='mae')\n",
    "\n",
    "model.summary()"
   ]
  },
  {
   "cell_type": "code",
   "execution_count": 13,
   "metadata": {},
   "outputs": [],
   "source": [
    "from tensorflow.keras.callbacks import EarlyStopping, TensorBoard\n",
    "import datetime\n",
    "\n",
    "# Set up TensorBoard\n",
    "log_dir = \"regressionlogs/fit/\" + datetime.datetime.now().strftime(\"%Y%m%d-%H%M%S\")\n",
    "tensorboard_callback = TensorBoard(log_dir=log_dir, histogram_freq=1)"
   ]
  },
  {
   "cell_type": "code",
   "execution_count": 14,
   "metadata": {},
   "outputs": [],
   "source": [
    "# Set up Early Stopping\n",
    "early_stopping_callback = EarlyStopping(monitor='val_loss', patience=10, restore_best_weights=True)\n"
   ]
  },
  {
   "cell_type": "code",
   "execution_count": 15,
   "metadata": {},
   "outputs": [
    {
     "name": "stdout",
     "output_type": "stream",
     "text": [
      "Epoch 1/100\n",
      "WARNING:tensorflow:From c:\\Users\\hariz\\projects\\simple_ANN_classification\\venv\\Lib\\site-packages\\keras\\src\\utils\\tf_utils.py:492: The name tf.ragged.RaggedTensorValue is deprecated. Please use tf.compat.v1.ragged.RaggedTensorValue instead.\n",
      "\n",
      "WARNING:tensorflow:From c:\\Users\\hariz\\projects\\simple_ANN_classification\\venv\\Lib\\site-packages\\keras\\src\\engine\\base_layer_utils.py:384: The name tf.executing_eagerly_outside_functions is deprecated. Please use tf.compat.v1.executing_eagerly_outside_functions instead.\n",
      "\n",
      "250/250 [==============================] - 1s 2ms/step - loss: 100389.6719 - mae: 100389.6719 - val_loss: 98566.3906 - val_mae: 98566.3906\n",
      "Epoch 2/100\n",
      "250/250 [==============================] - 0s 1ms/step - loss: 99826.2188 - mae: 99826.2188 - val_loss: 97431.7891 - val_mae: 97431.7891\n",
      "Epoch 3/100\n",
      "250/250 [==============================] - 0s 1ms/step - loss: 97834.5859 - mae: 97834.5859 - val_loss: 94489.9844 - val_mae: 94489.9844\n",
      "Epoch 4/100\n",
      "250/250 [==============================] - 0s 1ms/step - loss: 93833.3516 - mae: 93833.3516 - val_loss: 89448.4141 - val_mae: 89448.4141\n",
      "Epoch 5/100\n",
      "250/250 [==============================] - 0s 1ms/step - loss: 87793.6328 - mae: 87793.6328 - val_loss: 82604.3672 - val_mae: 82604.3672\n",
      "Epoch 6/100\n",
      "250/250 [==============================] - 0s 1ms/step - loss: 80272.4766 - mae: 80272.4766 - val_loss: 74858.7109 - val_mae: 74858.7109\n",
      "Epoch 7/100\n",
      "250/250 [==============================] - 0s 1ms/step - loss: 72237.9062 - mae: 72237.9062 - val_loss: 67273.2109 - val_mae: 67273.2109\n",
      "Epoch 8/100\n",
      "250/250 [==============================] - 0s 2ms/step - loss: 64750.5703 - mae: 64750.5703 - val_loss: 60746.0586 - val_mae: 60746.0586\n",
      "Epoch 9/100\n",
      "250/250 [==============================] - 0s 1ms/step - loss: 58792.8477 - mae: 58792.8477 - val_loss: 56048.8906 - val_mae: 56048.8906\n",
      "Epoch 10/100\n",
      "250/250 [==============================] - 0s 1ms/step - loss: 54788.0430 - mae: 54788.0430 - val_loss: 53210.1250 - val_mae: 53210.1250\n",
      "Epoch 11/100\n",
      "250/250 [==============================] - 0s 2ms/step - loss: 52446.4336 - mae: 52446.4336 - val_loss: 51701.1797 - val_mae: 51701.1797\n",
      "Epoch 12/100\n",
      "250/250 [==============================] - 0s 2ms/step - loss: 51266.4375 - mae: 51266.4375 - val_loss: 51115.7695 - val_mae: 51115.7695\n",
      "Epoch 13/100\n",
      "250/250 [==============================] - 0s 1ms/step - loss: 50746.8945 - mae: 50746.8945 - val_loss: 50909.4961 - val_mae: 50909.4961\n",
      "Epoch 14/100\n",
      "250/250 [==============================] - 0s 1ms/step - loss: 50518.0547 - mae: 50518.0547 - val_loss: 50823.8477 - val_mae: 50823.8477\n",
      "Epoch 15/100\n",
      "250/250 [==============================] - 0s 1ms/step - loss: 50394.2734 - mae: 50394.2734 - val_loss: 50769.5156 - val_mae: 50769.5156\n",
      "Epoch 16/100\n",
      "250/250 [==============================] - 0s 1ms/step - loss: 50316.9102 - mae: 50316.9102 - val_loss: 50719.1523 - val_mae: 50719.1523\n",
      "Epoch 17/100\n",
      "250/250 [==============================] - 0s 1ms/step - loss: 50256.3477 - mae: 50256.3477 - val_loss: 50682.4609 - val_mae: 50682.4609\n",
      "Epoch 18/100\n",
      "250/250 [==============================] - 0s 1ms/step - loss: 50206.4375 - mae: 50206.4375 - val_loss: 50639.1367 - val_mae: 50639.1367\n",
      "Epoch 19/100\n",
      "250/250 [==============================] - 0s 1ms/step - loss: 50161.8867 - mae: 50161.8867 - val_loss: 50599.0000 - val_mae: 50599.0000\n",
      "Epoch 20/100\n",
      "250/250 [==============================] - 0s 1ms/step - loss: 50120.8125 - mae: 50120.8125 - val_loss: 50561.7617 - val_mae: 50561.7617\n",
      "Epoch 21/100\n",
      "250/250 [==============================] - 0s 1ms/step - loss: 50085.2109 - mae: 50085.2109 - val_loss: 50525.0664 - val_mae: 50525.0664\n",
      "Epoch 22/100\n",
      "250/250 [==============================] - 0s 1ms/step - loss: 50048.2734 - mae: 50048.2734 - val_loss: 50490.2422 - val_mae: 50490.2422\n",
      "Epoch 23/100\n",
      "250/250 [==============================] - 0s 1ms/step - loss: 50017.9766 - mae: 50017.9766 - val_loss: 50456.4336 - val_mae: 50456.4336\n",
      "Epoch 24/100\n",
      "250/250 [==============================] - 0s 1ms/step - loss: 49983.6641 - mae: 49983.6641 - val_loss: 50435.8477 - val_mae: 50435.8477\n",
      "Epoch 25/100\n",
      "250/250 [==============================] - 0s 1ms/step - loss: 49953.4141 - mae: 49953.4141 - val_loss: 50413.9727 - val_mae: 50413.9727\n",
      "Epoch 26/100\n",
      "250/250 [==============================] - 0s 1ms/step - loss: 49927.3555 - mae: 49927.3555 - val_loss: 50395.8828 - val_mae: 50395.8828\n",
      "Epoch 27/100\n",
      "250/250 [==============================] - 0s 1ms/step - loss: 49902.2930 - mae: 49902.2930 - val_loss: 50376.0508 - val_mae: 50376.0508\n",
      "Epoch 28/100\n",
      "250/250 [==============================] - 0s 1ms/step - loss: 49879.1602 - mae: 49879.1602 - val_loss: 50364.3398 - val_mae: 50364.3398\n",
      "Epoch 29/100\n",
      "250/250 [==============================] - 0s 1ms/step - loss: 49854.6562 - mae: 49854.6562 - val_loss: 50343.5547 - val_mae: 50343.5547\n",
      "Epoch 30/100\n",
      "250/250 [==============================] - 0s 1ms/step - loss: 49835.6289 - mae: 49835.6289 - val_loss: 50330.0664 - val_mae: 50330.0664\n",
      "Epoch 31/100\n",
      "250/250 [==============================] - 0s 1ms/step - loss: 49817.0898 - mae: 49817.0898 - val_loss: 50316.6445 - val_mae: 50316.6445\n",
      "Epoch 32/100\n",
      "250/250 [==============================] - 0s 1ms/step - loss: 49800.4102 - mae: 49800.4102 - val_loss: 50305.9414 - val_mae: 50305.9414\n",
      "Epoch 33/100\n",
      "250/250 [==============================] - 0s 1ms/step - loss: 49780.0195 - mae: 49780.0195 - val_loss: 50300.6289 - val_mae: 50300.6289\n",
      "Epoch 34/100\n",
      "250/250 [==============================] - 0s 1ms/step - loss: 49763.9297 - mae: 49763.9297 - val_loss: 50295.8828 - val_mae: 50295.8828\n",
      "Epoch 35/100\n",
      "250/250 [==============================] - 0s 1ms/step - loss: 49746.8672 - mae: 49746.8672 - val_loss: 50281.6133 - val_mae: 50281.6133\n",
      "Epoch 36/100\n",
      "250/250 [==============================] - 0s 2ms/step - loss: 49733.3242 - mae: 49733.3242 - val_loss: 50278.0039 - val_mae: 50278.0039\n",
      "Epoch 37/100\n",
      "250/250 [==============================] - 0s 1ms/step - loss: 49720.9375 - mae: 49720.9375 - val_loss: 50259.3047 - val_mae: 50259.3047\n",
      "Epoch 38/100\n",
      "250/250 [==============================] - 0s 2ms/step - loss: 49705.9844 - mae: 49705.9844 - val_loss: 50249.6367 - val_mae: 50249.6367\n",
      "Epoch 39/100\n",
      "250/250 [==============================] - 0s 1ms/step - loss: 49692.3633 - mae: 49692.3633 - val_loss: 50244.4844 - val_mae: 50244.4844\n",
      "Epoch 40/100\n",
      "250/250 [==============================] - 0s 1ms/step - loss: 49680.6797 - mae: 49680.6797 - val_loss: 50234.2891 - val_mae: 50234.2891\n",
      "Epoch 41/100\n",
      "250/250 [==============================] - 0s 1ms/step - loss: 49667.6172 - mae: 49667.6172 - val_loss: 50229.9844 - val_mae: 50229.9844\n",
      "Epoch 42/100\n",
      "250/250 [==============================] - 0s 1ms/step - loss: 49654.7109 - mae: 49654.7109 - val_loss: 50227.4961 - val_mae: 50227.4961\n",
      "Epoch 43/100\n",
      "250/250 [==============================] - 0s 1ms/step - loss: 49645.3516 - mae: 49645.3516 - val_loss: 50224.0703 - val_mae: 50224.0703\n",
      "Epoch 44/100\n",
      "250/250 [==============================] - 0s 1ms/step - loss: 49635.3438 - mae: 49635.3438 - val_loss: 50214.0195 - val_mae: 50214.0195\n",
      "Epoch 45/100\n",
      "250/250 [==============================] - 0s 1ms/step - loss: 49622.4258 - mae: 49622.4258 - val_loss: 50216.8047 - val_mae: 50216.8047\n",
      "Epoch 46/100\n",
      "250/250 [==============================] - 0s 1ms/step - loss: 49614.2656 - mae: 49614.2656 - val_loss: 50209.6484 - val_mae: 50209.6484\n",
      "Epoch 47/100\n",
      "250/250 [==============================] - 0s 1ms/step - loss: 49603.8242 - mae: 49603.8242 - val_loss: 50208.9844 - val_mae: 50208.9844\n",
      "Epoch 48/100\n",
      "250/250 [==============================] - 0s 1ms/step - loss: 49597.6680 - mae: 49597.6680 - val_loss: 50202.5312 - val_mae: 50202.5312\n",
      "Epoch 49/100\n",
      "250/250 [==============================] - 0s 1ms/step - loss: 49585.6641 - mae: 49585.6641 - val_loss: 50204.4453 - val_mae: 50204.4453\n",
      "Epoch 50/100\n",
      "250/250 [==============================] - 0s 1ms/step - loss: 49578.1406 - mae: 49578.1406 - val_loss: 50203.2773 - val_mae: 50203.2773\n",
      "Epoch 51/100\n",
      "250/250 [==============================] - 0s 1ms/step - loss: 49571.8438 - mae: 49571.8438 - val_loss: 50205.5664 - val_mae: 50205.5664\n",
      "Epoch 52/100\n",
      "250/250 [==============================] - 0s 1ms/step - loss: 49560.7344 - mae: 49560.7344 - val_loss: 50198.6953 - val_mae: 50198.6953\n",
      "Epoch 53/100\n",
      "250/250 [==============================] - 0s 1ms/step - loss: 49551.8164 - mae: 49551.8164 - val_loss: 50194.8828 - val_mae: 50194.8828\n",
      "Epoch 54/100\n",
      "250/250 [==============================] - 0s 1ms/step - loss: 49546.3164 - mae: 49546.3164 - val_loss: 50193.3281 - val_mae: 50193.3281\n",
      "Epoch 55/100\n",
      "250/250 [==============================] - 0s 1ms/step - loss: 49536.1250 - mae: 49536.1250 - val_loss: 50196.4570 - val_mae: 50196.4570\n",
      "Epoch 56/100\n",
      "250/250 [==============================] - 0s 1ms/step - loss: 49533.7852 - mae: 49533.7852 - val_loss: 50196.8281 - val_mae: 50196.8281\n",
      "Epoch 57/100\n",
      "250/250 [==============================] - 0s 1ms/step - loss: 49524.5391 - mae: 49524.5391 - val_loss: 50193.2148 - val_mae: 50193.2148\n",
      "Epoch 58/100\n",
      "250/250 [==============================] - 0s 1ms/step - loss: 49518.9336 - mae: 49518.9336 - val_loss: 50186.8867 - val_mae: 50186.8867\n",
      "Epoch 59/100\n",
      "250/250 [==============================] - 0s 1ms/step - loss: 49510.0547 - mae: 49510.0547 - val_loss: 50187.3281 - val_mae: 50187.3281\n",
      "Epoch 60/100\n",
      "250/250 [==============================] - 0s 1ms/step - loss: 49504.8828 - mae: 49504.8828 - val_loss: 50181.3125 - val_mae: 50181.3125\n",
      "Epoch 61/100\n",
      "250/250 [==============================] - 0s 1ms/step - loss: 49497.6953 - mae: 49497.6953 - val_loss: 50192.1484 - val_mae: 50192.1484\n",
      "Epoch 62/100\n",
      "250/250 [==============================] - 0s 2ms/step - loss: 49493.8555 - mae: 49493.8555 - val_loss: 50193.2188 - val_mae: 50193.2188\n",
      "Epoch 63/100\n",
      "250/250 [==============================] - 0s 1ms/step - loss: 49484.5898 - mae: 49484.5898 - val_loss: 50200.8984 - val_mae: 50200.8984\n",
      "Epoch 64/100\n",
      "250/250 [==============================] - 0s 1ms/step - loss: 49478.9883 - mae: 49478.9883 - val_loss: 50196.5000 - val_mae: 50196.5000\n",
      "Epoch 65/100\n",
      "250/250 [==============================] - 0s 1ms/step - loss: 49473.7305 - mae: 49473.7305 - val_loss: 50192.1445 - val_mae: 50192.1445\n",
      "Epoch 66/100\n",
      "250/250 [==============================] - 0s 2ms/step - loss: 49471.4961 - mae: 49471.4961 - val_loss: 50198.8750 - val_mae: 50198.8750\n",
      "Epoch 67/100\n",
      "250/250 [==============================] - 0s 1ms/step - loss: 49462.7070 - mae: 49462.7070 - val_loss: 50194.3477 - val_mae: 50194.3477\n",
      "Epoch 68/100\n",
      "250/250 [==============================] - 0s 1ms/step - loss: 49459.6602 - mae: 49459.6602 - val_loss: 50197.6914 - val_mae: 50197.6914\n",
      "Epoch 69/100\n",
      "250/250 [==============================] - 0s 1ms/step - loss: 49453.9219 - mae: 49453.9219 - val_loss: 50203.3203 - val_mae: 50203.3203\n",
      "Epoch 70/100\n",
      "250/250 [==============================] - 0s 1ms/step - loss: 49448.6406 - mae: 49448.6406 - val_loss: 50198.5703 - val_mae: 50198.5703\n"
     ]
    }
   ],
   "source": [
    "# Train the model\n",
    "history = model.fit(\n",
    "    X_train, y_train,\n",
    "    validation_data=(X_test, y_test),\n",
    "    epochs=100,\n",
    "    callbacks=[early_stopping_callback, tensorboard_callback]\n",
    ")"
   ]
  },
  {
   "cell_type": "code",
   "execution_count": 16,
   "metadata": {},
   "outputs": [],
   "source": [
    "%load_ext tensorboard"
   ]
  },
  {
   "cell_type": "code",
   "execution_count": 17,
   "metadata": {},
   "outputs": [
    {
     "data": {
      "text/plain": [
       "Reusing TensorBoard on port 6006 (pid 18720), started 2:45:37 ago. (Use '!kill 18720' to kill it.)"
      ]
     },
     "metadata": {},
     "output_type": "display_data"
    },
    {
     "data": {
      "text/html": [
       "\n",
       "      <iframe id=\"tensorboard-frame-51cffc21ad737b54\" width=\"100%\" height=\"800\" frameborder=\"0\">\n",
       "      </iframe>\n",
       "      <script>\n",
       "        (function() {\n",
       "          const frame = document.getElementById(\"tensorboard-frame-51cffc21ad737b54\");\n",
       "          const url = new URL(\"http://localhost\");\n",
       "          const port = 6006;\n",
       "          if (port) {\n",
       "            url.port = port;\n",
       "          }\n",
       "          frame.src = url;\n",
       "        })();\n",
       "      </script>\n",
       "    "
      ],
      "text/plain": [
       "<IPython.core.display.HTML object>"
      ]
     },
     "metadata": {},
     "output_type": "display_data"
    }
   ],
   "source": [
    "%tensorboard --logdir regressionlogs/fit"
   ]
  },
  {
   "cell_type": "code",
   "execution_count": 18,
   "metadata": {},
   "outputs": [
    {
     "name": "stdout",
     "output_type": "stream",
     "text": [
      "63/63 [==============================] - 0s 839us/step - loss: 50181.3125 - mae: 50181.3125\n",
      "Test MAE: 50181.3125\n"
     ]
    }
   ],
   "source": [
    "# Evaluate model on the test data\n",
    "test_loss, test_mae = model.evaluate(X_test, y_test)\n",
    "print(f'Test MAE: {test_mae}')"
   ]
  },
  {
   "cell_type": "code",
   "execution_count": 19,
   "metadata": {},
   "outputs": [
    {
     "name": "stderr",
     "output_type": "stream",
     "text": [
      "c:\\Users\\hariz\\projects\\simple_ANN_classification\\venv\\Lib\\site-packages\\keras\\src\\engine\\training.py:3103: UserWarning: You are saving your model as an HDF5 file via `model.save()`. This file format is considered legacy. We recommend using instead the native Keras format, e.g. `model.save('my_model.keras')`.\n",
      "  saving_api.save_model(\n"
     ]
    }
   ],
   "source": [
    "model.save('regression_model.h5')"
   ]
  },
  {
   "cell_type": "markdown",
   "metadata": {},
   "source": [
    "## Prediction Example"
   ]
  },
  {
   "cell_type": "code",
   "execution_count": 20,
   "metadata": {},
   "outputs": [],
   "source": [
    "# Example input data\n",
    "input_data = {\n",
    "    'CreditScore': 600,\n",
    "    'Geography': 'France',\n",
    "    'Gender': 'Male',\n",
    "    'Age': 40,\n",
    "    'Tenure': 3,\n",
    "    'Balance': 60000,\n",
    "    'NumOfProducts': 2,\n",
    "    'HasCrCard': 1,\n",
    "    'IsActiveMember': 1,\n",
    "    'Exited':1\n",
    "}"
   ]
  },
  {
   "cell_type": "code",
   "execution_count": 21,
   "metadata": {},
   "outputs": [
    {
     "data": {
      "text/html": [
       "<div>\n",
       "<style scoped>\n",
       "    .dataframe tbody tr th:only-of-type {\n",
       "        vertical-align: middle;\n",
       "    }\n",
       "\n",
       "    .dataframe tbody tr th {\n",
       "        vertical-align: top;\n",
       "    }\n",
       "\n",
       "    .dataframe thead th {\n",
       "        text-align: right;\n",
       "    }\n",
       "</style>\n",
       "<table border=\"1\" class=\"dataframe\">\n",
       "  <thead>\n",
       "    <tr style=\"text-align: right;\">\n",
       "      <th></th>\n",
       "      <th>CreditScore</th>\n",
       "      <th>Geography</th>\n",
       "      <th>Gender</th>\n",
       "      <th>Age</th>\n",
       "      <th>Tenure</th>\n",
       "      <th>Balance</th>\n",
       "      <th>NumOfProducts</th>\n",
       "      <th>HasCrCard</th>\n",
       "      <th>IsActiveMember</th>\n",
       "      <th>Exited</th>\n",
       "    </tr>\n",
       "  </thead>\n",
       "  <tbody>\n",
       "    <tr>\n",
       "      <th>0</th>\n",
       "      <td>600</td>\n",
       "      <td>France</td>\n",
       "      <td>Male</td>\n",
       "      <td>40</td>\n",
       "      <td>3</td>\n",
       "      <td>60000</td>\n",
       "      <td>2</td>\n",
       "      <td>1</td>\n",
       "      <td>1</td>\n",
       "      <td>1</td>\n",
       "    </tr>\n",
       "  </tbody>\n",
       "</table>\n",
       "</div>"
      ],
      "text/plain": [
       "   CreditScore Geography Gender  Age  Tenure  Balance  NumOfProducts  \\\n",
       "0          600    France   Male   40       3    60000              2   \n",
       "\n",
       "   HasCrCard  IsActiveMember  Exited  \n",
       "0          1               1       1  "
      ]
     },
     "execution_count": 21,
     "metadata": {},
     "output_type": "execute_result"
    }
   ],
   "source": [
    "input_data_df = pd.DataFrame([input_data])\n",
    "input_data_df"
   ]
  },
  {
   "cell_type": "code",
   "execution_count": 22,
   "metadata": {},
   "outputs": [
    {
     "name": "stderr",
     "output_type": "stream",
     "text": [
      "c:\\Users\\hariz\\projects\\simple_ANN_classification\\venv\\Lib\\site-packages\\sklearn\\base.py:493: UserWarning: X does not have valid feature names, but OneHotEncoder was fitted with feature names\n",
      "  warnings.warn(\n"
     ]
    }
   ],
   "source": [
    "# One-hot encode 'Geography'\n",
    "geo_encoded = onehot_encoder_geo.transform([[input_data['Geography']]]).toarray()\n",
    "geo_encoded_df = pd.DataFrame(geo_encoded, columns=onehot_encoder_geo.get_feature_names_out(['Geography']))"
   ]
  },
  {
   "cell_type": "code",
   "execution_count": 23,
   "metadata": {},
   "outputs": [
    {
     "data": {
      "text/html": [
       "<div>\n",
       "<style scoped>\n",
       "    .dataframe tbody tr th:only-of-type {\n",
       "        vertical-align: middle;\n",
       "    }\n",
       "\n",
       "    .dataframe tbody tr th {\n",
       "        vertical-align: top;\n",
       "    }\n",
       "\n",
       "    .dataframe thead th {\n",
       "        text-align: right;\n",
       "    }\n",
       "</style>\n",
       "<table border=\"1\" class=\"dataframe\">\n",
       "  <thead>\n",
       "    <tr style=\"text-align: right;\">\n",
       "      <th></th>\n",
       "      <th>CreditScore</th>\n",
       "      <th>Geography</th>\n",
       "      <th>Gender</th>\n",
       "      <th>Age</th>\n",
       "      <th>Tenure</th>\n",
       "      <th>Balance</th>\n",
       "      <th>NumOfProducts</th>\n",
       "      <th>HasCrCard</th>\n",
       "      <th>IsActiveMember</th>\n",
       "      <th>Exited</th>\n",
       "    </tr>\n",
       "  </thead>\n",
       "  <tbody>\n",
       "    <tr>\n",
       "      <th>0</th>\n",
       "      <td>600</td>\n",
       "      <td>France</td>\n",
       "      <td>1</td>\n",
       "      <td>40</td>\n",
       "      <td>3</td>\n",
       "      <td>60000</td>\n",
       "      <td>2</td>\n",
       "      <td>1</td>\n",
       "      <td>1</td>\n",
       "      <td>1</td>\n",
       "    </tr>\n",
       "  </tbody>\n",
       "</table>\n",
       "</div>"
      ],
      "text/plain": [
       "   CreditScore Geography  Gender  Age  Tenure  Balance  NumOfProducts  \\\n",
       "0          600    France       1   40       3    60000              2   \n",
       "\n",
       "   HasCrCard  IsActiveMember  Exited  \n",
       "0          1               1       1  "
      ]
     },
     "execution_count": 23,
     "metadata": {},
     "output_type": "execute_result"
    }
   ],
   "source": [
    "# Label encode 'Gender'\n",
    "input_data_df['Gender'] = label_encoder_gender.transform(input_data_df['Gender'])\n",
    "input_data_df"
   ]
  },
  {
   "cell_type": "code",
   "execution_count": 24,
   "metadata": {},
   "outputs": [
    {
     "data": {
      "text/html": [
       "<div>\n",
       "<style scoped>\n",
       "    .dataframe tbody tr th:only-of-type {\n",
       "        vertical-align: middle;\n",
       "    }\n",
       "\n",
       "    .dataframe tbody tr th {\n",
       "        vertical-align: top;\n",
       "    }\n",
       "\n",
       "    .dataframe thead th {\n",
       "        text-align: right;\n",
       "    }\n",
       "</style>\n",
       "<table border=\"1\" class=\"dataframe\">\n",
       "  <thead>\n",
       "    <tr style=\"text-align: right;\">\n",
       "      <th></th>\n",
       "      <th>CreditScore</th>\n",
       "      <th>Gender</th>\n",
       "      <th>Age</th>\n",
       "      <th>Tenure</th>\n",
       "      <th>Balance</th>\n",
       "      <th>NumOfProducts</th>\n",
       "      <th>HasCrCard</th>\n",
       "      <th>IsActiveMember</th>\n",
       "      <th>Exited</th>\n",
       "      <th>Geography_France</th>\n",
       "      <th>Geography_Germany</th>\n",
       "      <th>Geography_Spain</th>\n",
       "    </tr>\n",
       "  </thead>\n",
       "  <tbody>\n",
       "    <tr>\n",
       "      <th>0</th>\n",
       "      <td>600</td>\n",
       "      <td>1</td>\n",
       "      <td>40</td>\n",
       "      <td>3</td>\n",
       "      <td>60000</td>\n",
       "      <td>2</td>\n",
       "      <td>1</td>\n",
       "      <td>1</td>\n",
       "      <td>1</td>\n",
       "      <td>1.0</td>\n",
       "      <td>0.0</td>\n",
       "      <td>0.0</td>\n",
       "    </tr>\n",
       "  </tbody>\n",
       "</table>\n",
       "</div>"
      ],
      "text/plain": [
       "   CreditScore  Gender  Age  Tenure  Balance  NumOfProducts  HasCrCard  \\\n",
       "0          600       1   40       3    60000              2          1   \n",
       "\n",
       "   IsActiveMember  Exited  Geography_France  Geography_Germany  \\\n",
       "0               1       1               1.0                0.0   \n",
       "\n",
       "   Geography_Spain  \n",
       "0              0.0  "
      ]
     },
     "execution_count": 24,
     "metadata": {},
     "output_type": "execute_result"
    }
   ],
   "source": [
    "# Combine one-hot encoded columns with input data\n",
    "input_data_df = pd.concat([input_data_df.drop('Geography', axis=1), geo_encoded_df], axis=1)\n",
    "input_data_df"
   ]
  },
  {
   "cell_type": "code",
   "execution_count": 25,
   "metadata": {},
   "outputs": [
    {
     "data": {
      "text/plain": [
       "array([[-0.47154541,  0.90911166,  0.09477172, -0.69844549, -0.29010416,\n",
       "         0.80510537,  0.63367318,  0.95214374,  2.02214206,  0.98019606,\n",
       "        -0.57581067, -0.56349184]])"
      ]
     },
     "execution_count": 25,
     "metadata": {},
     "output_type": "execute_result"
    }
   ],
   "source": [
    "# Scaling the input data\n",
    "input_scaled = scaler.transform(input_data_df)\n",
    "input_scaled"
   ]
  },
  {
   "cell_type": "code",
   "execution_count": 28,
   "metadata": {},
   "outputs": [
    {
     "name": "stdout",
     "output_type": "stream",
     "text": [
      "1/1 [==============================] - 0s 15ms/step\n"
     ]
    },
    {
     "data": {
      "text/plain": [
       "87934.69"
      ]
     },
     "execution_count": 28,
     "metadata": {},
     "output_type": "execute_result"
    }
   ],
   "source": [
    "# Predict the estimated salary\n",
    "prediction = model.predict(input_scaled)\n",
    "prediction[0][0]"
   ]
  }
 ],
 "metadata": {
  "kernelspec": {
   "display_name": "Python 3",
   "language": "python",
   "name": "python3"
  },
  "language_info": {
   "codemirror_mode": {
    "name": "ipython",
    "version": 3
   },
   "file_extension": ".py",
   "mimetype": "text/x-python",
   "name": "python",
   "nbconvert_exporter": "python",
   "pygments_lexer": "ipython3",
   "version": "3.11.0"
  }
 },
 "nbformat": 4,
 "nbformat_minor": 2
}
